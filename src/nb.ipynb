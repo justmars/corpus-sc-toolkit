{
 "cells": [
  {
   "cell_type": "code",
   "execution_count": 1,
   "metadata": {},
   "outputs": [],
   "source": [
    "from src.__main__ import ExtractDecisionPDF\n",
    "res = ExtractDecisionPDF.parse()"
   ]
  },
  {
   "cell_type": "code",
   "execution_count": 22,
   "metadata": {},
   "outputs": [],
   "source": [
    "caso = next(res)"
   ]
  },
  {
   "cell_type": "code",
   "execution_count": 23,
   "metadata": {},
   "outputs": [
    {
     "data": {
      "text/plain": [
       "[ExtractSegmentPDF(id='27853-1-25253', opinion_id='main-25253', decision_id=25253, position='27853-1', segment='Sirs/Mesdames:', char_count=14),\n",
       " ExtractSegmentPDF(id='27854-1-25253', opinion_id='main-25253', decision_id=25253, position='27854-1', segment='Please take notice that the  Court,  Second Division,  issued a Resolution dated 05 January 2022 which reads as follows: \"G.R. No. 256356 (Francisco Guamos III and Alvin Hilario Duran v. · HJS Manpower Services and Henry M. Polo). - It appearing from the records that a petition for review on certiorari\\'  was filed on May 10, 2021  which was received by the Office of the Clerk of Comi, this Division only on December 14, 2021, the Court resolves to RECALL the Resolution2 dated August 4, 2021 which resolved to inform the parties that no petition for review on certiorari has been filed in this case and that the judgment sought to be reviewed has now become final and executory, and declared the case closed and terminated.', char_count=726),\n",
       " ExtractSegmentPDF(id='27855-1-25253', opinion_id='main-25253', decision_id=25253, position='27855-1', segment='After a judicious study of the case, the Court resolves to DENY the instant petition and AFFIRM the Resolution3 dated September 30, 2020 of the Court of Appeals  (CA)  in  CA-G.R.  SP No.  165867  for  failure  of petitioners  Francisco Guamos III and Alvin Hilario Duran (petitioners) to show that the CA committed any reversible error in ruling that there was no illegal dismissal. •', char_count=385),\n",
       " ExtractSegmentPDF(id='27856-1-25253', opinion_id='main-25253', decision_id=25253, position='27856-1', segment='As correctly ruled by the CA, there was no illegal dismissal since petit_ioners failed to prove the fact of their dismissal. It is settled that in illegal dismissal cases, before the employer must bear the burden of proving that the dismissal was legal, the employee must first establish by substantial evidence the fact of his dismissal from service.4 Logically, if there is no dismissal, then there can be no question as to its legality or illegality.5 Bare allegations of dismissal, when uncorroborated by the evidence on record, cannot be given credence,6 as in this case.', char_count=576)]"
      ]
     },
     "execution_count": 23,
     "metadata": {},
     "output_type": "execute_result"
    }
   ],
   "source": [
    "caso.opinions[0].segments"
   ]
  },
  {
   "cell_type": "code",
   "execution_count": null,
   "metadata": {},
   "outputs": [],
   "source": []
  },
  {
   "cell_type": "code",
   "execution_count": null,
   "metadata": {},
   "outputs": [],
   "source": [
    "ExtractDecisionPDF.dump(caso)"
   ]
  }
 ],
 "metadata": {
  "kernelspec": {
   "display_name": ".venv",
   "language": "python",
   "name": "python3"
  },
  "language_info": {
   "codemirror_mode": {
    "name": "ipython",
    "version": 3
   },
   "file_extension": ".py",
   "mimetype": "text/x-python",
   "name": "python",
   "nbconvert_exporter": "python",
   "pygments_lexer": "ipython3",
   "version": "3.11.1"
  },
  "orig_nbformat": 4,
  "vscode": {
   "interpreter": {
    "hash": "a9fbf99632be8d4ebd33cb9a3e6f11d4338d3c8e4db3f0ba3ef06988695675fa"
   }
  }
 },
 "nbformat": 4,
 "nbformat_minor": 2
}
