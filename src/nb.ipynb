{
 "cells": [
  {
   "cell_type": "code",
   "execution_count": 1,
   "metadata": {},
   "outputs": [],
   "source": [
    "from src.__main__ import ExtractDecisionPDF"
   ]
  },
  {
   "cell_type": "code",
   "execution_count": 2,
   "metadata": {},
   "outputs": [],
   "source": [
    "res = ExtractDecisionPDF.parse()"
   ]
  },
  {
   "cell_type": "code",
   "execution_count": 16,
   "metadata": {},
   "outputs": [],
   "source": [
    "caso = next(res)"
   ]
  },
  {
   "cell_type": "code",
   "execution_count": 17,
   "metadata": {},
   "outputs": [
    {
     "data": {
      "text/plain": [
       "ExtractDecisionPDF(id=25048, title='Mareben Gumajob Lozano Vs. People of the Philippines', date=datetime.date(2022, 2, 14), docket=Docket(context='GR No. 257743, Feb 14, 2022', short_category='GR', category='General Register', ids='257743', docket_date=datetime.date(2022, 2, 14)), writer=None, category='Resolution', composition='Division', opinions=[ExtractOpinionPDF(id='25048', decision_id=25048, pdf='/files/2022/03-02-2022/257743.pdf', justice_label=None, title='Ponencia', body='\\n\\n\\n\\nSirs/Mesdames: \\n\\n          Please take  notice  that the  Court,  Second Division,  issued a Resolution \\n\\n     dated 14 February 2022 which reads as follows: \\n\\n\\n          \"G.R.  No.  257743  (Mareben  Gumajob  Lozano  v.  People  of  the \\n     Philippines). - After a judicious review of the case, the Court resolves to DENY \\n     the  instant  petition I  and  AFFIRM  the  Decision2  and  the  Resolution3  dated \\n     October 16, 2020 and May 26, 2021, respectively, of the Court of Appeals (CA) in CA-G.R. CR No. 01637-MIN declaring petitioner Marcben Gumajob Lozano \\n\\n\\n     (petitioner) guilty of the crime of Robbery with Violence Against or Intimidation \\n     of Persons, as defined and penalized under Article 294 (5) of the Revised Penal Code··1 . \\n\\n\\n          Case law instructs that the elements of robbery are as follows: (a) there is a \\n     taking of personal property; (b) the personal property belongs to another; (c) the \\n\\n     taking is  with animus lucrandi;  and (d)  the taking  is with violence  against or \\n     intimidation of persons or with force upon things.5 \\n\\n          As correctly  ruled  by  the court  a quo  and  the CA, all  the  elements  of \\n     Robbery are present in this case, considering that the prosecution has sufficiently established that petitioner indeed unlawfully took Lord Elwyn Cordova\\'s r cellphone worth 17,890.00 by grabbing it and punching the latter in order to ensure the success of his act.(\\' Hence, the Court finds no reason to ove11urn the findings of the court a quo, as affirmed by the CA, as there was no sl1owing that they overlooked, misunderstood, or misapplied the surrounding facts and \\n\\n\\n\\n\\n\\n\\n     circumstances of the case.7\\n\\n\\n\\nIn  view  of the  foregoing~  the  Court  finds  petitioner Mareben  Guinajob \\n       Lozano GU ILT Y beyond reasonable doubt of the crime of Robbery with Violence Against or Intimidation of Persons, as defined and penalized under Article 294 (5) or the Revised Penal Code. Accordingly,he is sentenced to suffer the penalty of imprisonment for a11 indeterminate period of four (4) ·months and one (1) day of arresto mayor, as minimum, to six (6) years, one (1) month, and eleven (11) days \\n\\n\\n\\n\\n       of prision mayor, as maximum, and to pay the victim, Lord Elwyn Cordova, the amount of rl 7,890.00 by way of restitution.8', annex=\"See Petition for Review on Certirwari dated August 18, 2021; rollo, pp. 14-40. Id. at pp. 45-57. Penned by Associate Justice Lily V. Biton with Associate Justices Oscar V. Badelles and R icharct D. Mordeno, concurring. Id. at 69-71. Entitled 'AN ACT R1:v1srNn THE PENAL COl)I:: .'\\\\Nl) OTHER PENAL LAWS,' approved 011 December 8, \\n\\n\\n\\n        1930. See Ablu:::a l'. Pr!v['I<!, G. R. No. 21772?., September 26, :?.O 18, citing Co11su/ta v. l'eople. 598 Phil. 464, 471 (.?.009). Rullo. pp. 46-47. See 1-'eoplr! r. Estonilo, G.R. No. 2486'J4, October 14, 2020, citing People v. Naciongayo, G.R. No. 24389'7, June 8, 2020. \\n\\n\\n\\n\\n\\n\\n\\n                                   - more -\\n\\n\\n\\n134 Amorsolo Street              Supreme Court, Manila \\n  1229 Legaspi Village Makati City \\n                                   PUBLIC INFORMAT rON OF.FICE (x). LIBRARY SERVICES (x) \\n\\n  HON. PRESIDING JUDGE (reg)       [For uploading pursuant to A.M. No. 12-7-SC] \\n  Regional Trial Court, Branch 61 9400 Kidapawan City . \\n                                   OFFICE OF THE CHIEF ATTORNEY (x) \\n  (Crim. Case No. 88-2005)         OFFICE OF THE REPORTER (x) PHILIPPINE JUDICIAL ACADEMY (x) \\n\\n  COURT OF APPEALS (reg)           Supreme Court, Manila \\n  Mindanao Station Cagayan de Oro City \\n                                   Please notify the Court of any change in your address. \\n  CA-G.R. CR No. 01637-MIN         GR257743. 2/14/2022(167)URES \\n\\n\\n\\n          See ~d11orte v. People, 603 i~hil. 50--t, 520 (2009).\")])"
      ]
     },
     "execution_count": 17,
     "metadata": {},
     "output_type": "execute_result"
    }
   ],
   "source": [
    "caso"
   ]
  }
 ],
 "metadata": {
  "kernelspec": {
   "display_name": ".venv",
   "language": "python",
   "name": "python3"
  },
  "language_info": {
   "codemirror_mode": {
    "name": "ipython",
    "version": 3
   },
   "file_extension": ".py",
   "mimetype": "text/x-python",
   "name": "python",
   "nbconvert_exporter": "python",
   "pygments_lexer": "ipython3",
   "version": "3.11.1"
  },
  "orig_nbformat": 4,
  "vscode": {
   "interpreter": {
    "hash": "a9fbf99632be8d4ebd33cb9a3e6f11d4338d3c8e4db3f0ba3ef06988695675fa"
   }
  }
 },
 "nbformat": 4,
 "nbformat_minor": 2
}
