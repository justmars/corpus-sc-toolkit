{
 "cells": [
  {
   "cell_type": "code",
   "execution_count": null,
   "metadata": {},
   "outputs": [],
   "source": [
    "from corpus_toolkit.justice import set_local_from_api\n",
    "res = set_local_from_api()"
   ]
  },
  {
   "cell_type": "code",
   "execution_count": null,
   "metadata": {},
   "outputs": [],
   "source": [
    "from pylts import ConfigS3\n",
    "from pathlib import Path\n",
    "from sqlpyd import Connection\n",
    "from corpus_toolkit import Justice, CandidateJustice\n",
    "\n",
    "folder = Path().cwd() / \"data\"\n",
    "stream = ConfigS3(folder=folder)\n",
    "# stream.restore()\n",
    "c = Connection(DatabasePath=str(stream.dbpath), WAL=True)\n"
   ]
  }
 ],
 "metadata": {
  "kernelspec": {
   "display_name": ".venv",
   "language": "python",
   "name": "python3"
  },
  "language_info": {
   "codemirror_mode": {
    "name": "ipython",
    "version": 3
   },
   "file_extension": ".py",
   "mimetype": "text/x-python",
   "name": "python",
   "nbconvert_exporter": "python",
   "pygments_lexer": "ipython3",
   "version": "3.11.1"
  },
  "orig_nbformat": 4,
  "vscode": {
   "interpreter": {
    "hash": "08e13be6c16a7c9aa4f01cb505cd8d77b99c7b18ed625f259146a29314dddc92"
   }
  }
 },
 "nbformat": 4,
 "nbformat_minor": 2
}
