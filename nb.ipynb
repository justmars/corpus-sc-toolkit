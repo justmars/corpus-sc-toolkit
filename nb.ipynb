{
 "cells": [
  {
   "cell_type": "code",
   "execution_count": null,
   "metadata": {},
   "outputs": [],
   "source": [
    "from pylts import ConfigS3\n",
    "from pathlib import Path\n",
    "from sqlpyd import Connection\n",
    "from corpus_sc_toolkit import Justice, CandidateJustice\n",
    "\n",
    "folder = Path().cwd() / \"data\"\n",
    "stream = ConfigS3(folder=folder)\n",
    "# stream.restore()\n",
    "c = Connection(DatabasePath=str(stream.dbpath), WAL=True)"
   ]
  },
  {
   "cell_type": "code",
   "execution_count": null,
   "metadata": {},
   "outputs": [],
   "source": [
    "import yaml\n",
    "from pathlib import Path\n",
    "from corpus_sc_toolkit.justice import Justice, get_justices_file\n",
    "from sqlpyd import Connection\n",
    "p = Path().cwd() / \"tests\" / \"sc.yaml\" # the test file\n",
    "c = Connection(DatabasePath=\"test.db\")\n",
    "c.path_to_db.unlink(missing_ok=True) # tear down\n",
    "tbl = c.create_table(Justice)\n",
    "search = CandidateJustice(db=c.db, text='Panganiban, Acting Cj', date_str='Dec. 1, 1995')\n",
    "print(search.choice)"
   ]
  }
 ],
 "metadata": {
  "kernelspec": {
   "display_name": ".venv",
   "language": "python",
   "name": "python3"
  },
  "language_info": {
   "codemirror_mode": {
    "name": "ipython",
    "version": 3
   },
   "file_extension": ".py",
   "mimetype": "text/x-python",
   "name": "python",
   "nbconvert_exporter": "python",
   "pygments_lexer": "ipython3",
   "version": "3.11.1"
  },
  "orig_nbformat": 4,
  "vscode": {
   "interpreter": {
    "hash": "08e13be6c16a7c9aa4f01cb505cd8d77b99c7b18ed625f259146a29314dddc92"
   }
  }
 },
 "nbformat": 4,
 "nbformat_minor": 2
}
